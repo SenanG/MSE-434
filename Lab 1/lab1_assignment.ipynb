{
 "cells": [
  {
   "cell_type": "markdown",
   "metadata": {},
   "source": [
    "## Assignment 1\n",
    "### Senan Gaffori, 20949022\n",
    "### Ayush Bhargava, 20889700"
   ]
  },
  {
   "cell_type": "markdown",
   "metadata": {},
   "source": [
    "### 1.1 - An optimization problem with Gurobipy"
   ]
  },
  {
   "cell_type": "code",
   "execution_count": 7,
   "metadata": {},
   "outputs": [
    {
     "name": "stdout",
     "output_type": "stream",
     "text": [
      "Gurobi Optimizer version 12.0.2 build v12.0.2rc0 (mac64[x86] - Darwin 24.4.0 24E263)\n",
      "\n",
      "CPU model: Intel(R) Core(TM) i5-8257U CPU @ 1.40GHz\n",
      "Thread count: 4 physical cores, 8 logical processors, using up to 8 threads\n",
      "\n",
      "Optimize a model with 2 rows, 2 columns and 4 nonzeros\n",
      "Model fingerprint: 0x9a331afa\n",
      "Coefficient statistics:\n",
      "  Matrix range     [1e+00, 4e+00]\n",
      "  Objective range  [1e+00, 1e+00]\n",
      "  Bounds range     [0e+00, 0e+00]\n",
      "  RHS range        [4e+00, 1e+01]\n",
      "Presolve time: 0.01s\n",
      "Presolved: 2 rows, 2 columns, 4 nonzeros\n",
      "\n",
      "Iteration    Objective       Primal Inf.    Dual Inf.      Time\n",
      "       0    2.0000000e+30   3.250000e+30   2.000000e+00      0s\n",
      "       2    3.2000000e+00   0.000000e+00   0.000000e+00      0s\n",
      "\n",
      "Solved in 2 iterations and 0.02 seconds (0.00 work units)\n",
      "Optimal objective  3.200000000e+00\n",
      "Objective Value: 3.2\n",
      "x: 2.4, y: 0.8\n"
     ]
    }
   ],
   "source": [
    "import gurobipy as gp\n",
    "from gurobipy import GRB\n",
    "\n",
    "m = gp.Model(\"DemoExample\")\n",
    "\n",
    "x = m.addVar(lb=0, vtype=GRB.CONTINUOUS, name=\"x\")\n",
    "y = m.addVar(lb=0, vtype=GRB.CONTINUOUS, name=\"y\")\n",
    "\n",
    "m.setObjective(x + y, GRB.MAXIMIZE)\n",
    "\n",
    "m.addConstr(x+2*y <=4, \"c1\")\n",
    "m.addConstr(x*4+3*y <= 12, \"c2\")\n",
    "\n",
    "m.optimize()\n",
    "\n",
    "if m.status == GRB.OPTIMAL:\n",
    "    if m.status == GRB.OPTIMAL:\n",
    "        print(f\"Objective Value: {m.objVal}\")\n",
    "        print(f\"x: {x.X}, y: {y.X}\")"
   ]
  },
  {
   "cell_type": "markdown",
   "metadata": {},
   "source": [
    "### 1.2 - An optimization problem with CPLEX"
   ]
  },
  {
   "cell_type": "code",
   "execution_count": null,
   "metadata": {},
   "outputs": [],
   "source": [
    "%pip install docplex\n",
    "\n",
    "from docplex.mp.model import Model\n",
    "\n",
    "# Create a model\n",
    "mdl = Model(name='DemoDocplex')\n",
    "\n",
    "# Variables\n",
    "x = mdl.continuous_var(name='x', lb=0)\n",
    "y = mdl.continuous_var(name='y', lb=0)\n",
    "\n",
    "# Objective: Maximize x + y\n",
    "mdl.maximize(x + y)\n",
    "\n",
    "# Constraints\n",
    "mdl.add_constraint(x + 2*y <= 4, 'c1')\n",
    "mdl.add_constraint(x*4 + 3*y <= 12, 'c2')\n",
    "\n",
    "# Solve\n",
    "sol = mdl.solve(log_output=True)\n",
    "\n",
    "# Output\n",
    "if sol:\n",
    "    print(f\"Objective Value: {mdl.objective_value}\")\n",
    "    mdl.print_solution()\n",
    "else:\n",
    "    print(\"No solution found\")"
   ]
  },
  {
   "cell_type": "markdown",
   "metadata": {},
   "source": [
    "From 1.1 and 1.2 we see the final solution has optimal values of:\n",
    "x = 2.4\n",
    "y = 0.8\n",
    "z = 3.2"
   ]
  },
  {
   "cell_type": "markdown",
   "metadata": {},
   "source": [
    "## 2 - Lab Assignment"
   ]
  },
  {
   "cell_type": "markdown",
   "metadata": {},
   "source": [
    "## Problem Formulation"
   ]
  },
  {
   "cell_type": "markdown",
   "metadata": {},
   "source": [
    "## CFLP - Sets, Parameters and Decsion Variables"
   ]
  },
  {
   "cell_type": "markdown",
   "metadata": {},
   "source": [
    "### Sets:\n",
    "\n",
    "$$\n",
    "I: \\text{ Set of facilities } (f_1, f_2, f_3, f_4, f_5, f_6, f_7)\n",
    "$$\n",
    "$$\n",
    "J: \\text{ Set of customers } (c_1, c_2, c_3, c_4, c_5, c_6, c_7, c_8, c_9, c_{10})\n",
    "$$\n",
    "\n",
    "### Parameters:\n",
    "$$\n",
    "f_i: \\text{ Fixed cost of opening facility } i \\in I\n",
    "$$\n",
    "$$\n",
    "u_i: \\text{ Capacity of facility } i \\in I\n",
    "$$\n",
    "$$\n",
    "d_j: \\text{ Demand of customer } j \\in J\n",
    "$$\n",
    "$$\n",
    "c_{ij}: \\text{ Transportation cost of shipping from facility } i \\text{ to customer } j\n",
    "$$\\\n",
    "$$\n",
    "r: \\text{ Revenue earned per unit of demand fulfilled } = \\$1000\n",
    "$$\n",
    "\n",
    "### Decision Variables:\n",
    "$$\n",
    "y_i \\in \\{0,1\\}: \\text{ Binary variable indicating if facility } i \\text{ is open}\n",
    "$$\n",
    "$$\n",
    "x_{ij} \\geq 0: \\text{ Amount shipped from facility } i \\text{ to customer } j\n",
    "$$\\\n",
    "$$\n",
    "z_{ij} \\in \\{0, 1\\}: 1 \\text{ if customer } j \\text{ is assigned to facility } i, 0 \\text{ otherwise}\n",
    "$$"
   ]
  },
  {
   "cell_type": "markdown",
   "metadata": {},
   "source": [
    "## Objective Function\n",
    "\n",
    "$$\n",
    "\\text{Maximize } z =  \\sum_{i \\in I} \\sum_{j \\in J} r \\cdot x_{ij} - \\sum_{i \\in I} f_i y_i - \\sum_{i \\in I} \\sum_{j \\in J} c_{ij} x_{ij}\n",
    "$$"
   ]
  },
  {
   "cell_type": "markdown",
   "metadata": {},
   "source": [
    "## Constraints\n",
    "\n",
    "**Each customer is served by at most one facility:**\n",
    "$$\n",
    "\\sum_{i \\in I} z_{ij} \\leq 1 \\quad \\forall j \\in J\n",
    "$$\n",
    "\n",
    "**Shipping allowed only if customer is assigned to that facility:**\n",
    "$$\n",
    "x_{ij} \\leq d_j \\cdot z_{ij} \\quad \\forall i \\in I, \\forall j \\in J\n",
    "$$\n",
    "\n",
    "**A facility cannot exceed its capacity:**\n",
    "$$\n",
    "\\sum_{j \\in J} x_{ij} \\leq u_i \\cdot y_i \\quad \\forall i \\in I\n",
    "$$\n",
    "\n",
    "**Customer can only be assigned to an open facility:**\n",
    "$$\n",
    "z_{ij} \\leq y_i \\quad \\forall i \\in I, \\forall j \\in J\n",
    "$$\n",
    "\n",
    "**At most 3 facilities may be opened:**\n",
    "$$\n",
    "\\sum_{i \\in I} y_i \\leq 3\n",
    "$$\n",
    "\n",
    "**Variable domains:**\n",
    "$$\n",
    "y_i \\in \\{0, 1\\}, \\quad z_{ij} \\in \\{0, 1\\}, \\quad x_{ij} \\geq 0\n",
    "$$\n"
   ]
  },
  {
   "cell_type": "markdown",
   "metadata": {},
   "source": [
    "# Code Implementation w/ Gurobi"
   ]
  },
  {
   "cell_type": "markdown",
   "metadata": {},
   "source": [
    "## Import Libaries and Read CSV file w/ Customer Data"
   ]
  },
  {
   "cell_type": "code",
   "execution_count": 1,
   "metadata": {},
   "outputs": [],
   "source": [
    "import pandas as pd\n",
    "from gurobipy import Model, GRB, quicksum\n",
    "\n",
    "# --- Load CSV ---\n",
    "df = pd.read_csv(\"LabData.csv\")\n",
    "\n",
    "# --- Extract facility and customer data ---\n",
    "facility_data = df[['Facility', 'Fixed Cost ($)', 'Capacity (units)']].dropna().reset_index(drop=True)\n",
    "facilities = facility_data['Facility'].tolist()\n",
    "fixed_cost = dict(zip(facility_data['Facility'], facility_data['Fixed Cost ($)']))\n",
    "capacity = dict(zip(facility_data['Facility'], facility_data['Capacity (units)']))\n",
    "\n",
    "customer_cols = df.columns[df.columns.get_loc('Facility.1')+1:]\n",
    "customers = customer_cols.tolist()\n",
    "\n",
    "customer_data = df[['Customer', 'Demand (units)']].dropna().reset_index(drop=True)\n",
    "demand = dict(zip(customer_data['Customer'], customer_data['Demand (units)']))\n",
    "\n",
    "distance = {}\n",
    "for i, row in facility_data.iterrows():\n",
    "    facility = row['Facility']\n",
    "    for customer in customers:\n",
    "        distance[(facility, customer)] = df.loc[i, customer]"
   ]
  },
  {
   "cell_type": "markdown",
   "metadata": {},
   "source": [
    "## Build Model w/ Constraints"
   ]
  },
  {
   "cell_type": "code",
   "execution_count": 2,
   "metadata": {},
   "outputs": [
    {
     "name": "stdout",
     "output_type": "stream",
     "text": [
      "Restricted license - for non-production use only - expires 2026-11-23\n",
      "Gurobi Optimizer version 12.0.2 build v12.0.2rc0 (mac64[x86] - Darwin 24.4.0 24E263)\n",
      "\n",
      "CPU model: Intel(R) Core(TM) i5-8257U CPU @ 1.40GHz\n",
      "Thread count: 4 physical cores, 8 logical processors, using up to 8 threads\n",
      "\n",
      "Optimize a model with 158 rows, 147 columns and 434 nonzeros\n",
      "Model fingerprint: 0xdbda41ac\n",
      "Variable types: 70 continuous, 77 integer (77 binary)\n",
      "Coefficient statistics:\n",
      "  Matrix range     [1e+00, 6e+01]\n",
      "  Objective range  [1e+03, 2e+04]\n",
      "  Bounds range     [1e+00, 1e+00]\n",
      "  RHS range        [1e+00, 3e+00]\n",
      "Found heuristic solution: objective -0.0000000\n",
      "Presolve time: 0.02s\n",
      "Presolved: 158 rows, 147 columns, 434 nonzeros\n",
      "Variable types: 0 continuous, 147 integer (77 binary)\n",
      "\n",
      "Root relaxation: objective 1.363050e+05, 59 iterations, 0.00 seconds (0.00 work units)\n",
      "\n",
      "    Nodes    |    Current Node    |     Objective Bounds      |     Work\n",
      " Expl Unexpl |  Obj  Depth IntInf | Incumbent    BestBd   Gap | It/Node Time\n",
      "\n",
      "     0     0 136305.000    0    3   -0.00000 136305.000      -     -    0s\n",
      "H    0     0                    115695.00000 136305.000  17.8%     -    0s\n",
      "H    0     0                    116674.00000 136305.000  16.8%     -    0s\n",
      "H    0     0                    124542.00000 136305.000  9.45%     -    0s\n",
      "H    0     0                    134315.00000 136305.000  1.48%     -    0s\n",
      "H    0     0                    136275.00000 136305.000  0.02%     -    0s\n",
      "     0     0 136305.000    0    6 136275.000 136305.000  0.02%     -    0s\n",
      "H    0     0                    136287.00000 136305.000  0.01%     -    0s\n",
      "     0     0 136305.000    0    4 136287.000 136305.000  0.01%     -    0s\n",
      "H    0     0                    136292.00000 136305.000  0.01%     -    0s\n",
      "\n",
      "Explored 1 nodes (116 simplex iterations) in 0.09 seconds (0.00 work units)\n",
      "Thread count was 8 (of 8 available processors)\n",
      "\n",
      "Solution count 8: 136292 136287 136275 ... -0\n",
      "\n",
      "Optimal solution found (tolerance 1.00e-04)\n",
      "Best objective 1.362920000000e+05, best bound 1.363050000000e+05, gap 0.0095%\n"
     ]
    }
   ],
   "source": [
    "# --- Gurobi Model ---\n",
    "m = Model(\"Lab1\")\n",
    "\n",
    "# Parameters\n",
    "revenue_per_unit = 1000  # Assumed constant profit per unit delivered\n",
    "\n",
    "# Decision variables\n",
    "y = m.addVars(facilities, vtype=GRB.BINARY, name=\"Open\")  # Open facility\n",
    "x = m.addVars(facilities, customers, vtype=GRB.CONTINUOUS, name=\"Ship\")  # Quantity shipped\n",
    "z = m.addVars(facilities, customers, vtype=GRB.BINARY, name=\"Assign\")  # Assignment\n",
    "\n",
    "# --- Objective: Maximize profit ---\n",
    "# Revenue from shipped goods - Fixed costs - Transport cost\n",
    "m.setObjective(\n",
    "    quicksum(revenue_per_unit * x[i, j] for i in facilities for j in customers)\n",
    "    - quicksum(fixed_cost[i] * y[i] for i in facilities)\n",
    "    - quicksum(distance[i, j] * x[i, j] for i in facilities for j in customers),\n",
    "    GRB.MAXIMIZE\n",
    ")\n",
    "\n",
    "# --- Constraints ---\n",
    "\n",
    "# 1. Each customer assigned to at most one facility\n",
    "for j in customers:\n",
    "    m.addConstr(quicksum(z[i, j] for i in facilities) <= 1, name=f\"AssignOnce_{j}\")\n",
    "\n",
    "# 2. Shipping only allowed if assigned\n",
    "for i in facilities:\n",
    "    for j in customers:\n",
    "        m.addConstr(x[i, j] <= demand[j] * z[i, j], name=f\"ShipIfAssigned_{i}_{j}\")\n",
    "\n",
    "# 3. Facility capacity not exceeded\n",
    "for i in facilities:\n",
    "    m.addConstr(quicksum(x[i, j] for j in customers) <= capacity[i] * y[i], name=f\"Capacity_{i}\")\n",
    "\n",
    "# 4. Facility must be open to serve\n",
    "for i in facilities:\n",
    "    for j in customers:\n",
    "        m.addConstr(z[i, j] <= y[i], name=f\"ServeIfOpen_{i}_{j}\")\n",
    "\n",
    "# 5. At most 3 facilities can be open\n",
    "m.addConstr(quicksum(y[i] for i in facilities) <= 3, name=\"Max3Facilities\")\n",
    "\n",
    "# --- Solve ---\n",
    "m.optimize()"
   ]
  },
  {
   "cell_type": "markdown",
   "metadata": {},
   "source": [
    "## Print Solution"
   ]
  },
  {
   "cell_type": "code",
   "execution_count": 3,
   "metadata": {},
   "outputs": [
    {
     "name": "stdout",
     "output_type": "stream",
     "text": [
      "\n",
      "Total Profit: 136292.00\n",
      "\n",
      "Facility F2 is OPEN\n",
      "  Ships 22.0 units to Customer C2\n",
      "  Ships 30.0 units to Customer C4\n",
      "  Ships 8.0 units to Customer C8\n",
      "\n",
      "Facility F5 is OPEN\n",
      "  Ships 15.0 units to Customer C3\n",
      "  Ships 27.0 units to Customer C5\n",
      "  Ships 23.0 units to Customer C9\n",
      "\n",
      "Facility F6 is OPEN\n",
      "  Ships 18.0 units to Customer C1\n",
      "  Ships 1.0 units to Customer C6\n",
      "  Ships 15.0 units to Customer C7\n",
      "  Ships 21.0 units to Customer C10\n"
     ]
    }
   ],
   "source": [
    "# --- Print results ---\n",
    "if m.status == GRB.OPTIMAL:\n",
    "    print(f\"\\nTotal Profit: {m.objVal:.2f}\")\n",
    "    for i in facilities:\n",
    "        if y[i].x > 0.5:\n",
    "            print(f\"\\nFacility {i} is OPEN\")\n",
    "            for j in customers:\n",
    "                if x[i, j].x > 0:\n",
    "                    print(f\"  Ships {x[i, j].x:.1f} units to Customer {j}\")\n",
    "else:\n",
    "    print(\"No optimal solution found.\")"
   ]
  },
  {
   "cell_type": "markdown",
   "metadata": {},
   "source": [
    "## Final Solution\n"
   ]
  },
  {
   "cell_type": "markdown",
   "metadata": {},
   "source": [
    "**Final Solution:**\n",
    "\n",
    "**Total Profit:** $136292.00$\n",
    "\n",
    "**Facility F2 is OPEN**\n",
    "* Ships $22.0$ units to Customer C2\n",
    "* Ships $30.0$ units to Customer C4\n",
    "* Ships $8.0$ units to Customer C8 (Demand not fully met)\n",
    "\n",
    "**Facility F5 is OPEN**\n",
    "* Ships $15.0$ units to Customer C3 (Demand not fully met)\n",
    "* Ships $27.0$ units to Customer C5\n",
    "* Ships $23.0$ units to Customer C9\n",
    "\n",
    "**Facility F6 is OPEN**\n",
    "* Ships $18.0$ units to Customer C1\n",
    "* Ships $1.0$ unit to Customer C6 (Demand not fully met)\n",
    "* Ships $15.0$ units to Customer C7\n",
    "* Ships $21.0$ units to Customer C10"
   ]
  },
  {
   "cell_type": "markdown",
   "metadata": {},
   "source": [
    "## Takeaways"
   ]
  },
  {
   "cell_type": "markdown",
   "metadata": {},
   "source": [
    "### In order to satsify the objective function and maximize profit for the company, demand could not be fully met for customers 3, 6, and 8."
   ]
  },
  {
   "cell_type": "markdown",
   "metadata": {},
   "source": [
    "## GenAI Disclosure\n",
    "\n",
    "GenAI and LLMs were used to format the text in the jupyter notebook to be a user friendly reading form.\n"
   ]
  }
 ],
 "metadata": {
  "kernelspec": {
   "display_name": ".venv",
   "language": "python",
   "name": "python3"
  },
  "language_info": {
   "codemirror_mode": {
    "name": "ipython",
    "version": 3
   },
   "file_extension": ".py",
   "mimetype": "text/x-python",
   "name": "python",
   "nbconvert_exporter": "python",
   "pygments_lexer": "ipython3",
   "version": "3.10.1"
  }
 },
 "nbformat": 4,
 "nbformat_minor": 2
}
