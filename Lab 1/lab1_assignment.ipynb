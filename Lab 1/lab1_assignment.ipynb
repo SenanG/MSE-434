{
 "cells": [
  {
   "cell_type": "markdown",
   "metadata": {},
   "source": [
    "## Assignment 1\n",
    "### Senan Gaffori, 20949022\n",
    "### Ayush Bhargava, 20889700"
   ]
  },
  {
   "cell_type": "markdown",
   "metadata": {},
   "source": [
    "### 1.1 - An optimization problem with Gurobipy"
   ]
  },
  {
   "cell_type": "code",
   "execution_count": 7,
   "metadata": {},
   "outputs": [
    {
     "name": "stdout",
     "output_type": "stream",
     "text": [
      "Gurobi Optimizer version 12.0.2 build v12.0.2rc0 (mac64[x86] - Darwin 24.4.0 24E263)\n",
      "\n",
      "CPU model: Intel(R) Core(TM) i5-8257U CPU @ 1.40GHz\n",
      "Thread count: 4 physical cores, 8 logical processors, using up to 8 threads\n",
      "\n",
      "Optimize a model with 2 rows, 2 columns and 4 nonzeros\n",
      "Model fingerprint: 0x9a331afa\n",
      "Coefficient statistics:\n",
      "  Matrix range     [1e+00, 4e+00]\n",
      "  Objective range  [1e+00, 1e+00]\n",
      "  Bounds range     [0e+00, 0e+00]\n",
      "  RHS range        [4e+00, 1e+01]\n",
      "Presolve time: 0.01s\n",
      "Presolved: 2 rows, 2 columns, 4 nonzeros\n",
      "\n",
      "Iteration    Objective       Primal Inf.    Dual Inf.      Time\n",
      "       0    2.0000000e+30   3.250000e+30   2.000000e+00      0s\n",
      "       2    3.2000000e+00   0.000000e+00   0.000000e+00      0s\n",
      "\n",
      "Solved in 2 iterations and 0.02 seconds (0.00 work units)\n",
      "Optimal objective  3.200000000e+00\n",
      "Objective Value: 3.2\n",
      "x: 2.4, y: 0.8\n"
     ]
    }
   ],
   "source": [
    "import gurobipy as gp\n",
    "from gurobipy import GRB\n",
    "\n",
    "m = gp.Model(\"DemoExample\")\n",
    "\n",
    "x = m.addVar(lb=0, vtype=GRB.CONTINUOUS, name=\"x\")\n",
    "y = m.addVar(lb=0, vtype=GRB.CONTINUOUS, name=\"y\")\n",
    "\n",
    "m.setObjective(x + y, GRB.MAXIMIZE)\n",
    "\n",
    "m.addConstr(x+2*y <=4, \"c1\")\n",
    "m.addConstr(x*4+3*y <= 12, \"c2\")\n",
    "\n",
    "m.optimize()\n",
    "\n",
    "if m.status == GRB.OPTIMAL:\n",
    "    if m.status == GRB.OPTIMAL:\n",
    "        print(f\"Objective Value: {m.objVal}\")\n",
    "        print(f\"x: {x.X}, y: {y.X}\")"
   ]
  },
  {
   "cell_type": "markdown",
   "metadata": {},
   "source": [
    "### 1.2 - An optimization problem with CPLEX"
   ]
  },
  {
   "cell_type": "code",
   "execution_count": null,
   "metadata": {},
   "outputs": [],
   "source": [
    "%pip install docplex\n",
    "\n",
    "from docplex.mp.model import Model\n",
    "\n",
    "# Create a model\n",
    "mdl = Model(name='DemoDocplex')\n",
    "\n",
    "# Variables\n",
    "x = mdl.continuous_var(name='x', lb=0)\n",
    "y = mdl.continuous_var(name='y', lb=0)\n",
    "\n",
    "# Objective: Maximize x + y\n",
    "mdl.maximize(x + y)\n",
    "\n",
    "# Constraints\n",
    "mdl.add_constraint(x + 2*y <= 4, 'c1')\n",
    "mdl.add_constraint(x*4 + 3*y <= 12, 'c2')\n",
    "\n",
    "# Solve\n",
    "sol = mdl.solve(log_output=True)\n",
    "\n",
    "# Output\n",
    "if sol:\n",
    "    print(f\"Objective Value: {mdl.objective_value}\")\n",
    "    mdl.print_solution()\n",
    "else:\n",
    "    print(\"No solution found\")"
   ]
  },
  {
   "cell_type": "markdown",
   "metadata": {},
   "source": [
    "From 1.1 and 1.2 we see the final solution has optimal values of:\n",
    "x = 2.4\n",
    "y = 0.8\n",
    "z = 3.2"
   ]
  },
  {
   "cell_type": "markdown",
   "metadata": {},
   "source": [
    "## 2 - Lab Assignment"
   ]
  },
  {
   "cell_type": "markdown",
   "metadata": {},
   "source": [
    "## Problem Formulation"
   ]
  },
  {
   "cell_type": "markdown",
   "metadata": {},
   "source": [
    "## CFLP - Sets, Parameters and Decsion Variables"
   ]
  },
  {
   "cell_type": "markdown",
   "metadata": {},
   "source": [
    "### Sets:\n",
    "\n",
    "$I$: Set of facilities ($f_1, f_2, f_3, f_4, f_5, f_6, f_7$)\n",
    "<br>\n",
    "$J$: Set of customers ($c_1, c_2, c_3, c_4, c_5, c_6, c_7, c_8, c_9, c_{10}$)\n",
    "\n",
    "### Parameters:\n",
    "$f_i$: Fixed cost of opening facility $i \\in I$\n",
    "<br>\n",
    "$u_i$: Capacity of facility $i \\in I$\n",
    "<br>\n",
    "$d_j$: Demand of customer $j \\in J$\n",
    "<br>\n",
    "$c_{ij}$: Distance of shipping from facility $i$ to customer $j$\n",
    "\n",
    "### Decision Variables:\n",
    "$y_i \\in \\{0,1\\}$: Binary variable indicating if facility $i$ is open\n",
    "<br>\n",
    "$x_{ij} \\geq 0$: Amount shipped from facility $i$ to customer $j$"
   ]
  },
  {
   "cell_type": "markdown",
   "metadata": {},
   "source": [
    "## Constraints\n",
    "\n",
    "### Demand Satisfaction - Each Customer Demand Must Be Met\n",
    "$$\n",
    "\\sum_{i \\in I} x_{ij} = d_j \\quad \\forall j \\in J\n",
    "$$\n",
    "\n",
    "### Facility Capacity - A facility can only ship up to its capacity if it is open:\n",
    "$$\n",
    "\\sum_{j \\in J} x_{ij} \\leq u_i y_i \\quad \\forall i \\in I\n",
    "$$\n",
    "\n",
    "### Variable Domains\n",
    "$$\n",
    "x_{ij} \\geq 0 \\quad \\forall i \\in I, j \\in J\n",
    "$$\n",
    "\n",
    "$$\n",
    "y_i \\in \\{0, 1\\} \\quad \\forall i \\in I\n",
    "$$\n",
    "\n"
   ]
  },
  {
   "cell_type": "markdown",
   "metadata": {},
   "source": [
    "# Code Implementation w/ Gurobi"
   ]
  },
  {
   "cell_type": "markdown",
   "metadata": {},
   "source": [
    "## Import Libaries and Read CSV file w/ Customer Data"
   ]
  },
  {
   "cell_type": "code",
   "execution_count": 9,
   "metadata": {},
   "outputs": [],
   "source": [
    "import pandas as pd\n",
    "from gurobipy import Model, GRB, quicksum\n",
    "\n",
    "# --- Load CSV ---\n",
    "df = pd.read_csv(\"LabData.csv\")\n",
    "\n",
    "# --- Extract facility and customer data ---\n",
    "facility_data = df[['Facility', 'Fixed Cost ($)', 'Capacity (units)']].dropna().reset_index(drop=True)\n",
    "facilities = facility_data['Facility'].tolist()\n",
    "fixed_cost = dict(zip(facility_data['Facility'], facility_data['Fixed Cost ($)']))\n",
    "capacity = dict(zip(facility_data['Facility'], facility_data['Capacity (units)']))\n",
    "\n",
    "customer_cols = df.columns[df.columns.get_loc('Facility.1')+1:]\n",
    "customers = customer_cols.tolist()\n",
    "\n",
    "customer_data = df[['Customer', 'Demand (units)']].dropna().reset_index(drop=True)\n",
    "demand = dict(zip(customer_data['Customer'], customer_data['Demand (units)']))\n",
    "\n",
    "distance = {}\n",
    "for i, row in facility_data.iterrows():\n",
    "    facility = row['Facility']\n",
    "    for customer in customers:\n",
    "        distance[(facility, customer)] = df.loc[i, customer]"
   ]
  },
  {
   "cell_type": "markdown",
   "metadata": {},
   "source": [
    "## Build Model"
   ]
  },
  {
   "cell_type": "code",
   "execution_count": 10,
   "metadata": {},
   "outputs": [
    {
     "name": "stdout",
     "output_type": "stream",
     "text": [
      "Gurobi Optimizer version 12.0.2 build v12.0.2rc0 (mac64[x86] - Darwin 24.4.0 24E263)\n",
      "\n",
      "CPU model: Intel(R) Core(TM) i5-8257U CPU @ 1.40GHz\n",
      "Thread count: 4 physical cores, 8 logical processors, using up to 8 threads\n",
      "\n",
      "Optimize a model with 17 rows, 77 columns and 147 nonzeros\n",
      "Model fingerprint: 0xee20544e\n",
      "Variable types: 70 continuous, 7 integer (7 binary)\n",
      "Coefficient statistics:\n",
      "  Matrix range     [1e+00, 6e+01]\n",
      "  Objective range  [8e+00, 2e+04]\n",
      "  Bounds range     [1e+00, 1e+00]\n",
      "  RHS range        [2e+01, 3e+01]\n",
      "Presolve time: 0.02s\n",
      "Presolved: 17 rows, 77 columns, 147 nonzeros\n",
      "Variable types: 70 continuous, 7 integer (7 binary)\n",
      "Found heuristic solution: objective 98480.000000\n",
      "\n",
      "Root relaxation: objective 5.489500e+04, 49 iterations, 0.00 seconds (0.00 work units)\n",
      "\n",
      "    Nodes    |    Current Node    |     Objective Bounds      |     Work\n",
      " Expl Unexpl |  Obj  Depth IntInf | Incumbent    BestBd   Gap | It/Node Time\n",
      "\n",
      "     0     0 54895.0000    0    1 98480.0000 54895.0000  44.3%     -    0s\n",
      "H    0     0                    57495.000000 54895.0000  4.52%     -    0s\n",
      "H    0     0                    57455.000000 56175.0000  2.23%     -    0s\n",
      "     0     0 56535.0000    0    2 57455.0000 56535.0000  1.60%     -    0s\n",
      "H    0     0                    56535.000000 56535.0000  0.00%     -    0s\n",
      "\n",
      "Cutting planes:\n",
      "  Gomory: 2\n",
      "  Implied bound: 1\n",
      "\n",
      "Explored 1 nodes (61 simplex iterations) in 0.11 seconds (0.00 work units)\n",
      "Thread count was 8 (of 8 available processors)\n",
      "\n",
      "Solution count 3: 56535 57455 98480 \n",
      "\n",
      "Optimal solution found (tolerance 1.00e-04)\n",
      "Best objective 5.653500000000e+04, best bound 5.653500000000e+04, gap 0.0000%\n"
     ]
    }
   ],
   "source": [
    "# --- Gurobi Model ---\n",
    "m = Model(\"CapacitatedFacilityLocation\")\n",
    "\n",
    "y = m.addVars(facilities, vtype=GRB.BINARY, name=\"Open\")\n",
    "x = m.addVars(facilities, customers, vtype=GRB.CONTINUOUS, name=\"Ship\")\n",
    "\n",
    "m.setObjective(\n",
    "    quicksum(fixed_cost[i] * y[i] for i in facilities) +\n",
    "    quicksum(distance[i, j] * x[i, j] for i in facilities for j in customers),\n",
    "    GRB.MINIMIZE\n",
    ")\n",
    "\n",
    "for j in customers:\n",
    "    m.addConstr(quicksum(x[i, j] for i in facilities) == demand[j], name=f\"Demand_{j}\")\n",
    "\n",
    "for i in facilities:\n",
    "    m.addConstr(quicksum(x[i, j] for j in customers) <= capacity[i] * y[i], name=f\"Capacity_{i}\")\n",
    "\n",
    "m.optimize()"
   ]
  },
  {
   "cell_type": "markdown",
   "metadata": {},
   "source": [
    "## Print Solution"
   ]
  },
  {
   "cell_type": "code",
   "execution_count": 11,
   "metadata": {},
   "outputs": [
    {
     "name": "stdout",
     "output_type": "stream",
     "text": [
      "Total Cost: 56535.00\n",
      "\n",
      "Facility F1 is OPEN\n",
      "  Ships 5.0 units to Customer C2\n",
      "  Ships 27.0 units to Customer C5\n",
      "  Ships 8.0 units to Customer C10\n",
      "\n",
      "Facility F2 is OPEN\n",
      "  Ships 18.0 units to Customer C1\n",
      "  Ships 25.0 units to Customer C3\n",
      "  Ships 17.0 units to Customer C8\n",
      "\n",
      "Facility F5 is OPEN\n",
      "  Ships 30.0 units to Customer C4\n",
      "  Ships 20.0 units to Customer C6\n",
      "  Ships 2.0 units to Customer C8\n",
      "  Ships 13.0 units to Customer C10\n",
      "\n",
      "Facility F6 is OPEN\n",
      "  Ships 17.0 units to Customer C2\n",
      "  Ships 15.0 units to Customer C7\n",
      "  Ships 23.0 units to Customer C9\n"
     ]
    }
   ],
   "source": [
    "# --- Print results ---\n",
    "if m.status == GRB.OPTIMAL:\n",
    "    print(f\"Total Cost: {m.objVal:.2f}\")\n",
    "    for i in facilities:\n",
    "        if y[i].x > 0.5:\n",
    "            print(f\"\\nFacility {i} is OPEN\")\n",
    "            for j in customers:\n",
    "                if x[i, j].x > 0:\n",
    "                    print(f\"  Ships {x[i, j].x} units to Customer {j}\")\n",
    "else:\n",
    "    print(\"No optimal solution found.\")\n"
   ]
  },
  {
   "cell_type": "markdown",
   "metadata": {},
   "source": [
    "## Final Solutions\n"
   ]
  },
  {
   "cell_type": "markdown",
   "metadata": {},
   "source": [
    "**Total Cost:** $56535.00$\n",
    "\n",
    "**Facility F1 is OPEN**\n",
    "* Ships $5.0$ units to Customer C2\n",
    "* Ships $27.0$ units to Customer C5\n",
    "* Ships $8.0$ units to Customer C10\n",
    "\n",
    "**Facility F2 is OPEN**\n",
    "* Ships $18.0$ units to Customer C1\n",
    "* Ships $25.0$ units to Customer C3\n",
    "* Ships $17.0$ units to Customer C8\n",
    "\n",
    "**Facility F5 is OPEN**\n",
    "* Ships $30.0$ units to Customer C4\n",
    "* Ships $20.0$ units to Customer C6\n",
    "* Ships $2.0$ units to Customer C8\n",
    "* Ships $13.0$ units to Customer C10\n",
    "\n",
    "**Facility F6 is OPEN**\n",
    "* Ships $17.0$ units to Customer C2\n",
    "* Ships $15.0$ units to Customer C7\n",
    "* Ships $23.0$ units to Customer C9"
   ]
  },
  {
   "cell_type": "markdown",
   "metadata": {},
   "source": [
    "## GenAI Disclosure\n",
    "\n",
    "GenAI and LLMs were used to format the text in the jupyter notebook to be a user friendly reading form.\n"
   ]
  }
 ],
 "metadata": {
  "kernelspec": {
   "display_name": ".venv",
   "language": "python",
   "name": "python3"
  },
  "language_info": {
   "codemirror_mode": {
    "name": "ipython",
    "version": 3
   },
   "file_extension": ".py",
   "mimetype": "text/x-python",
   "name": "python",
   "nbconvert_exporter": "python",
   "pygments_lexer": "ipython3",
   "version": "3.10.1"
  }
 },
 "nbformat": 4,
 "nbformat_minor": 2
}
