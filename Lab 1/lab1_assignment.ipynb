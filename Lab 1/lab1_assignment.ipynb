{
 "cells": [
  {
   "cell_type": "markdown",
   "metadata": {},
   "source": [
    "## Assignment 1\n",
    "### Senan Gaffori, 20949022\n",
    "### Ayush Bhargava, 20889700"
   ]
  },
  {
   "cell_type": "markdown",
   "metadata": {},
   "source": [
    "### Small Example 1 - An optimization problem with Gurobipy"
   ]
  },
  {
   "cell_type": "code",
   "execution_count": null,
   "metadata": {},
   "outputs": [],
   "source": [
    "import gurobipy as gp\n",
    "from gurobipy import GRB\n",
    "\n",
    "m = gp.Model(\"DemoExample\")\n",
    "\n",
    "x = m.addVar(lb=0, vtype=GRB.CONTINUOUS, name=\"x\")\n",
    "y = m.addVar(lb=0, vtype=GRB.CONTINUOUS, name=\"y\")\n",
    "\n",
    "m.setObjective(x + y, GRB.MAXIMIZE)\n",
    "\n",
    "m.addConstr(x+2*y <=4, \"c1\")\n",
    "m.addConstr(x*4+3*y <= 12, \"c2\")\n",
    "\n",
    "m.optimize()\n",
    "\n",
    "if m.status == GRB.OPTIMAL:\n",
    "    if m.status == GRB.OPTIMAL:\n",
    "        print(f\"Objective Value: {m.objVal}\")\n",
    "        print(f\"x: {x.X}, y: {y.X}\")"
   ]
  }
 ],
 "metadata": {
  "language_info": {
   "name": "python"
  }
 },
 "nbformat": 4,
 "nbformat_minor": 2
}
